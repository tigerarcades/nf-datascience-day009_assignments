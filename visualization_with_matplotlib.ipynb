{
 "cells": [
  {
   "cell_type": "markdown",
   "metadata": {},
   "source": [
    "# Data Visualization with Matplotlib"
   ]
  },
  {
   "cell_type": "code",
   "execution_count": 38,
   "metadata": {},
   "outputs": [],
   "source": [
    "import pandas as pd\n",
    "%matplotlib inline\n",
    "import random\n",
    "import matplotlib.pyplot as plt"
   ]
  },
  {
   "cell_type": "code",
   "execution_count": 39,
   "metadata": {},
   "outputs": [],
   "source": [
    "import pandas as pd\n",
    "df = pd.read_csv('winequality_datasets/winequality-red.csv', delimiter=';')"
   ]
  },
  {
   "cell_type": "code",
   "execution_count": 40,
   "metadata": {},
   "outputs": [
    {
     "data": {
      "text/plain": [
       "(array([ 10.,   0.,  53.,   0., 681.,   0., 638.,   0., 199.,  18.]),\n",
       " array([3. , 3.5, 4. , 4.5, 5. , 5.5, 6. , 6.5, 7. , 7.5, 8. ]),\n",
       " <a list of 10 Patch objects>)"
      ]
     },
     "execution_count": 40,
     "metadata": {},
     "output_type": "execute_result"
    },
    {
     "data": {
      "image/png": "[encoded data removed]",
      "text/plain": [
       "<Figure size 432x288 with 1 Axes>"
      ]
     },
     "metadata": {
      "needs_background": "light"
     },
     "output_type": "display_data"
    }
   ],
   "source": [
    "plt.hist(df['quality'])"
   ]
  },
  {
   "cell_type": "code",
   "execution_count": 41,
   "metadata": {},
   "outputs": [
    {
     "data": {
      "text/plain": [
       "<matplotlib.collections.PathCollection at 0x122888160>"
      ]
     },
     "execution_count": 41,
     "metadata": {},
     "output_type": "execute_result"
    },
    {
     "data": {
      "image/png": "[encoded data removed]",
      "text/plain": [
       "<Figure size 432x288 with 1 Axes>"
      ]
     },
     "metadata": {
      "needs_background": "light"
     },
     "output_type": "display_data"
    }
   ],
   "source": [
    "plt.scatter(x=df['free sulfur dioxide'], y=df['total sulfur dioxide'])"
   ]
  },
  {
   "cell_type": "code",
   "execution_count": 42,
   "metadata": {},
   "outputs": [
    {
     "name": "stdout",
     "output_type": "stream",
     "text": [
      "\n"
     ]
    },
    {
     "data": {
      "text/plain": [
       "{'whiskers': [<matplotlib.lines.Line2D at 0x1217d6ef0>,\n",
       "  <matplotlib.lines.Line2D at 0x1217c4e48>,\n",
       "  <matplotlib.lines.Line2D at 0x121681438>,\n",
       "  <matplotlib.lines.Line2D at 0x121681278>,\n",
       "  <matplotlib.lines.Line2D at 0x1217ec518>,\n",
       "  <matplotlib.lines.Line2D at 0x1217ecba8>,\n",
       "  <matplotlib.lines.Line2D at 0x121811748>,\n",
       "  <matplotlib.lines.Line2D at 0x121811f98>,\n",
       "  <matplotlib.lines.Line2D at 0x122106dd8>,\n",
       "  <matplotlib.lines.Line2D at 0x120df1668>,\n",
       "  <matplotlib.lines.Line2D at 0x122a8ca90>,\n",
       "  <matplotlib.lines.Line2D at 0x122a8cdd8>,\n",
       "  <matplotlib.lines.Line2D at 0x122a9c208>,\n",
       "  <matplotlib.lines.Line2D at 0x122a9c550>,\n",
       "  <matplotlib.lines.Line2D at 0x122aa7940>,\n",
       "  <matplotlib.lines.Line2D at 0x122aa7c88>,\n",
       "  <matplotlib.lines.Line2D at 0x1218d80b8>,\n",
       "  <matplotlib.lines.Line2D at 0x1218d8400>,\n",
       "  <matplotlib.lines.Line2D at 0x1218e27f0>,\n",
       "  <matplotlib.lines.Line2D at 0x1218e2b38>,\n",
       "  <matplotlib.lines.Line2D at 0x1218ebf28>,\n",
       "  <matplotlib.lines.Line2D at 0x1218f52b0>,\n",
       "  <matplotlib.lines.Line2D at 0x1218ff6a0>,\n",
       "  <matplotlib.lines.Line2D at 0x1218ff9e8>],\n",
       " 'caps': [<matplotlib.lines.Line2D at 0x1217c41d0>,\n",
       "  <matplotlib.lines.Line2D at 0x1217c4828>,\n",
       "  <matplotlib.lines.Line2D at 0x12147ba20>,\n",
       "  <matplotlib.lines.Line2D at 0x12147bc18>,\n",
       "  <matplotlib.lines.Line2D at 0x121b93c50>,\n",
       "  <matplotlib.lines.Line2D at 0x1216e5390>,\n",
       "  <matplotlib.lines.Line2D at 0x121811ef0>,\n",
       "  <matplotlib.lines.Line2D at 0x121811a20>,\n",
       "  <matplotlib.lines.Line2D at 0x121ca6c88>,\n",
       "  <matplotlib.lines.Line2D at 0x121f5e1d0>,\n",
       "  <matplotlib.lines.Line2D at 0x122a93160>,\n",
       "  <matplotlib.lines.Line2D at 0x122a934a8>,\n",
       "  <matplotlib.lines.Line2D at 0x122a9c898>,\n",
       "  <matplotlib.lines.Line2D at 0x122a9cbe0>,\n",
       "  <matplotlib.lines.Line2D at 0x122aa7fd0>,\n",
       "  <matplotlib.lines.Line2D at 0x1218ce358>,\n",
       "  <matplotlib.lines.Line2D at 0x1218d8748>,\n",
       "  <matplotlib.lines.Line2D at 0x1218d8a90>,\n",
       "  <matplotlib.lines.Line2D at 0x1218e2e80>,\n",
       "  <matplotlib.lines.Line2D at 0x1218eb208>,\n",
       "  <matplotlib.lines.Line2D at 0x1218f55f8>,\n",
       "  <matplotlib.lines.Line2D at 0x1218f5940>,\n",
       "  <matplotlib.lines.Line2D at 0x1218ffd30>,\n",
       "  <matplotlib.lines.Line2D at 0x1219090b8>],\n",
       " 'boxes': [<matplotlib.lines.Line2D at 0x1217d69b0>,\n",
       "  <matplotlib.lines.Line2D at 0x1213f42b0>,\n",
       "  <matplotlib.lines.Line2D at 0x1217ecb70>,\n",
       "  <matplotlib.lines.Line2D at 0x1216e5588>,\n",
       "  <matplotlib.lines.Line2D at 0x12181af98>,\n",
       "  <matplotlib.lines.Line2D at 0x122a8c710>,\n",
       "  <matplotlib.lines.Line2D at 0x122a93e48>,\n",
       "  <matplotlib.lines.Line2D at 0x122aa75c0>,\n",
       "  <matplotlib.lines.Line2D at 0x1218cecf8>,\n",
       "  <matplotlib.lines.Line2D at 0x1218e2470>,\n",
       "  <matplotlib.lines.Line2D at 0x1218ebba8>,\n",
       "  <matplotlib.lines.Line2D at 0x1218ff320>],\n",
       " 'medians': [<matplotlib.lines.Line2D at 0x1217c4a58>,\n",
       "  <matplotlib.lines.Line2D at 0x1217ec0f0>,\n",
       "  <matplotlib.lines.Line2D at 0x1216e5438>,\n",
       "  <matplotlib.lines.Line2D at 0x12182a208>,\n",
       "  <matplotlib.lines.Line2D at 0x12146f240>,\n",
       "  <matplotlib.lines.Line2D at 0x122a937f0>,\n",
       "  <matplotlib.lines.Line2D at 0x122a9cf28>,\n",
       "  <matplotlib.lines.Line2D at 0x1218ce6a0>,\n",
       "  <matplotlib.lines.Line2D at 0x1218d8dd8>,\n",
       "  <matplotlib.lines.Line2D at 0x1218eb550>,\n",
       "  <matplotlib.lines.Line2D at 0x1218f5c88>,\n",
       "  <matplotlib.lines.Line2D at 0x121909400>],\n",
       " 'fliers': [<matplotlib.lines.Line2D at 0x1217c4128>,\n",
       "  <matplotlib.lines.Line2D at 0x1217ec2b0>,\n",
       "  <matplotlib.lines.Line2D at 0x1216e5908>,\n",
       "  <matplotlib.lines.Line2D at 0x12182a278>,\n",
       "  <matplotlib.lines.Line2D at 0x12146f4e0>,\n",
       "  <matplotlib.lines.Line2D at 0x122a93b38>,\n",
       "  <matplotlib.lines.Line2D at 0x122aa72b0>,\n",
       "  <matplotlib.lines.Line2D at 0x1218ce9e8>,\n",
       "  <matplotlib.lines.Line2D at 0x1218e2160>,\n",
       "  <matplotlib.lines.Line2D at 0x1218eb898>,\n",
       "  <matplotlib.lines.Line2D at 0x1218f5fd0>,\n",
       "  <matplotlib.lines.Line2D at 0x121909748>],\n",
       " 'means': []}"
      ]
     },
     "execution_count": 42,
     "metadata": {},
     "output_type": "execute_result"
    },
    {
     "data": {
      "image/png": "[encoded data removed]",
      "text/plain": [
       "<Figure size 432x288 with 1 Axes>"
      ]
     },
     "metadata": {
      "needs_background": "light"
     },
     "output_type": "display_data"
    }
   ],
   "source": [
    "print()\n",
    "plt.boxplot(x=list(map(lambda col_name: df[col_name], df.columns)))"
   ]
  },
  {
   "cell_type": "code",
   "execution_count": 43,
   "metadata": {},
   "outputs": [
    {
     "data": {
      "text/plain": [
       "{'whiskers': [<matplotlib.lines.Line2D at 0x122b947b8>,\n",
       "  <matplotlib.lines.Line2D at 0x122b94b38>,\n",
       "  <matplotlib.lines.Line2D at 0x122bfff28>,\n",
       "  <matplotlib.lines.Line2D at 0x122c0a2b0>,\n",
       "  <matplotlib.lines.Line2D at 0x122c146a0>,\n",
       "  <matplotlib.lines.Line2D at 0x122c149e8>],\n",
       " 'caps': [<matplotlib.lines.Line2D at 0x122b94e80>,\n",
       "  <matplotlib.lines.Line2D at 0x122bff208>,\n",
       "  <matplotlib.lines.Line2D at 0x122c0a5f8>,\n",
       "  <matplotlib.lines.Line2D at 0x122c0a940>,\n",
       "  <matplotlib.lines.Line2D at 0x122c14d30>,\n",
       "  <matplotlib.lines.Line2D at 0x122c1f0b8>],\n",
       " 'boxes': [<matplotlib.lines.Line2D at 0x122b94668>,\n",
       "  <matplotlib.lines.Line2D at 0x122bffba8>,\n",
       "  <matplotlib.lines.Line2D at 0x122c14320>],\n",
       " 'medians': [<matplotlib.lines.Line2D at 0x122bff550>,\n",
       "  <matplotlib.lines.Line2D at 0x122c0ac88>,\n",
       "  <matplotlib.lines.Line2D at 0x122c1f400>],\n",
       " 'fliers': [<matplotlib.lines.Line2D at 0x122bff898>,\n",
       "  <matplotlib.lines.Line2D at 0x122c0afd0>,\n",
       "  <matplotlib.lines.Line2D at 0x122c1f748>],\n",
       " 'means': []}"
      ]
     },
     "execution_count": 43,
     "metadata": {},
     "output_type": "execute_result"
    },
    {
     "data": {
      "image/png": "[encoded data removed]",
      "text/plain": [
       "<Figure size 432x288 with 1 Axes>"
      ]
     },
     "metadata": {
      "needs_background": "light"
     },
     "output_type": "display_data"
    }
   ],
   "source": [
    "plt.boxplot(x=[df['fixed acidity'], df['pH'], df['alcohol']])"
   ]
  },
  {
   "cell_type": "code",
   "execution_count": 44,
   "metadata": {},
   "outputs": [
    {
     "data": {
      "text/plain": [
       "{'whiskers': [<matplotlib.lines.Line2D at 0x122c6dcc0>,\n",
       "  <matplotlib.lines.Line2D at 0x122cd6080>,\n",
       "  <matplotlib.lines.Line2D at 0x122ce1470>,\n",
       "  <matplotlib.lines.Line2D at 0x122ce17b8>],\n",
       " 'caps': [<matplotlib.lines.Line2D at 0x122cd63c8>,\n",
       "  <matplotlib.lines.Line2D at 0x122cd6710>,\n",
       "  <matplotlib.lines.Line2D at 0x122ce1b00>,\n",
       "  <matplotlib.lines.Line2D at 0x122ce1e48>],\n",
       " 'boxes': [<matplotlib.lines.Line2D at 0x122c6db70>,\n",
       "  <matplotlib.lines.Line2D at 0x122ce10f0>],\n",
       " 'medians': [<matplotlib.lines.Line2D at 0x122cd6a58>,\n",
       "  <matplotlib.lines.Line2D at 0x122ce91d0>],\n",
       " 'fliers': [<matplotlib.lines.Line2D at 0x122cd6da0>,\n",
       "  <matplotlib.lines.Line2D at 0x122ce9518>],\n",
       " 'means': []}"
      ]
     },
     "execution_count": 44,
     "metadata": {},
     "output_type": "execute_result"
    },
    {
     "data": {
      "image/png": "[encoded data removed]",
      "text/plain": [
       "<Figure size 432x288 with 1 Axes>"
      ]
     },
     "metadata": {
      "needs_background": "light"
     },
     "output_type": "display_data"
    }
   ],
   "source": [
    "plt.boxplot(x=[df['fixed acidity'], df['alcohol']])"
   ]
  }
 ],
 "metadata": {
  "kernelspec": {
   "display_name": "Python 3",
   "language": "python",
   "name": "python3"
  },
  "language_info": {
   "codemirror_mode": {
    "name": "ipython",
    "version": 3
   },
   "file_extension": ".py",
   "mimetype": "text/x-python",
   "name": "python",
   "nbconvert_exporter": "python",
   "pygments_lexer": "ipython3",
   "version": "3.6.6"
  }
 },
 "nbformat": 4,
 "nbformat_minor": 2
}
