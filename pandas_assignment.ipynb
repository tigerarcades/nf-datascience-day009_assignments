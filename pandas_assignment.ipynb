{
 "cells": [
  {
   "cell_type": "markdown",
   "metadata": {},
   "source": [
    "# Pandas Assignment"
   ]
  },
  {
   "cell_type": "markdown",
   "metadata": {},
   "source": [
    "Import Pandas and Numpy"
   ]
  },
  {
   "cell_type": "code",
   "execution_count": null,
   "metadata": {},
   "outputs": [],
   "source": [
    "import numpy as np\n",
    "import pandas as pd"
   ]
  },
  {
   "cell_type": "markdown",
   "metadata": {},
   "source": [
    "1. Read the `winequality-red.csv` data into a `DataFrame`, and the `winequality-white.csv` into another `DataFrame`."
   ]
  },
  {
   "cell_type": "code",
   "execution_count": null,
   "metadata": {},
   "outputs": [],
   "source": [
    "df_red_wine = pd.read_csv('winequality_datasets/winequality-red.csv', delimiter=\";\")"
   ]
  },
  {
   "cell_type": "code",
   "execution_count": null,
   "metadata": {},
   "outputs": [],
   "source": [
    "df_white_wine = pd.read_csv('winequality_datasets/winequality-white.csv', delimiter=\";\")"
   ]
  },
  {
   "cell_type": "markdown",
   "metadata": {},
   "source": [
    "2. Double check that you've read them in right by using some of the attributes and methods available on `DataFrames` for getting a general sense of your data (**Hint**: See `day10-intro_pandas`, `week5` if you need a refresher on these). "
   ]
  },
  {
   "cell_type": "code",
   "execution_count": null,
   "metadata": {},
   "outputs": [],
   "source": [
    "df_red_wine.head()"
   ]
  },
  {
   "cell_type": "code",
   "execution_count": null,
   "metadata": {},
   "outputs": [],
   "source": [
    "df_white_wine.head()"
   ]
  },
  {
   "cell_type": "markdown",
   "metadata": {},
   "source": [
    "Double check that you've read them in right by using some of the attributes and methods available on DataFrames for getting a general sense of your data (Hint: See day10-intro_pandas, week5 if you need a refresher on these)."
   ]
  },
  {
   "cell_type": "code",
   "execution_count": null,
   "metadata": {},
   "outputs": [],
   "source": [
    "df_red_wine.describe()"
   ]
  },
  {
   "cell_type": "code",
   "execution_count": null,
   "metadata": {},
   "outputs": [],
   "source": [
    "df_white_wine.describe()"
   ]
  },
  {
   "cell_type": "markdown",
   "metadata": {},
   "source": [
    "3. I've decided that this month I want to stay away from wines with relatively high alcohol content. To do that, I'm going to avoid any wines that have a greater alcohol content than the mean alcohol content, and you're going to help me do this. To achieve this, let's do the following: \n",
    "\n",
    "  - Find the mean alcohol content, separately, for reds and whites.  \n",
    "  - Create a `Series` that holds whether each row in each `DataFrame` (the reds, and whites) has a higher alcohol content than the mean. \n",
    "  - Merge this `Series` onto the `DataFrame`. I can imagine doing this with either a `.join()` or using `pd.concat()`. For practice, do it with both. Note: merges with `Series` work the same way that they work with `DataFrames`.  \n",
    "  - Return back to me all those rows that will help me stay away from those wines with a higher alcohol content.  "
   ]
  },
  {
   "cell_type": "code",
   "execution_count": null,
   "metadata": {},
   "outputs": [],
   "source": [
    "key_alcohol = 'alcohol'\n",
    "key_col_name_higher_alcohol_than_mean = 'higher_alcohol_than_mean'\n",
    "\n",
    "def get_mean_of(df, column_nme):\n",
    "    return df[column_nme].mean()\n",
    "\n",
    "def get_mean_alcohol(df):\n",
    "    return get_mean_of(df, key_alcohol)\n",
    "\n",
    "def append_higher_alcohol_than_mean_column(df):\n",
    "    mean_alcohol = get_mean_alcohol(df)\n",
    "    df[key_col_name_higher_alcohol_than_mean] = mean_alcohol < df[key_alcohol]\n",
    "    return df\n",
    "\n",
    "def get_rows_with_more_alcohol_than_mean(df):\n",
    "    mean_alcohol = get_mean_alcohol(df)\n",
    "    return df[mean_alcohol < df[key_alcohol]]"
   ]
  },
  {
   "cell_type": "code",
   "execution_count": null,
   "metadata": {},
   "outputs": [],
   "source": [
    "get_mean_alcohol(df_red_wine)"
   ]
  },
  {
   "cell_type": "code",
   "execution_count": null,
   "metadata": {},
   "outputs": [],
   "source": [
    "get_mean_alcohol(df_white_wine)"
   ]
  },
  {
   "cell_type": "code",
   "execution_count": null,
   "metadata": {},
   "outputs": [],
   "source": [
    "append_higher_alcohol_than_mean_column(df_red_wine)\n",
    "df_red_wine.head()"
   ]
  },
  {
   "cell_type": "code",
   "execution_count": null,
   "metadata": {},
   "outputs": [],
   "source": [
    "append_higher_alcohol_than_mean_column(df_white_wine)\n",
    "df_white_wine.head()"
   ]
  },
  {
   "cell_type": "code",
   "execution_count": null,
   "metadata": {},
   "outputs": [],
   "source": [
    "get_rows_with_more_alcohol_than_mean(df_red_wine)"
   ]
  },
  {
   "cell_type": "code",
   "execution_count": null,
   "metadata": {},
   "outputs": [],
   "source": [
    "get_rows_with_more_alcohol_than_mean(df_white_wine)"
   ]
  },
  {
   "cell_type": "markdown",
   "metadata": {},
   "source": [
    "4. Let's say that I want to get started on cutting back next month. This time, though, I want to focus on staying away from those wines with a high acidity. Specifically, I want to stay away from those wines that are in the highest bin of fixed acidity (highest bin out of 5). You're now going to help me do this. To achieve this, let's do the following:\n",
    "\n",
    "  - Separate the rows in each DataFrame into 5 equal width bins based off their fixed acidity.\n",
    "  - Merge the resulting Series holding these 5 bins onto the original DataFrame. I can imagine also doing this with either .join() or using pd.concat(). Try doing it with both for practice.\n",
    "  - Return back to me all those rows that are *not in * the top bin in terms of fixed acidity."
   ]
  },
  {
   "cell_type": "code",
   "execution_count": null,
   "metadata": {},
   "outputs": [],
   "source": [
    "def create_bins(df):\n",
    "    start = df['fixed acidity'].min()\n",
    "    stop = df['fixed acidity'].max()\n",
    "    step = (stop - start) / 5\n",
    "    fixed_acidity_bins = np.arange(start, stop, step)\n",
    "    print(fixed_acidity_bins)\n",
    "    fixed_acidity_series = pd.cut(df['fixed acidity'], bins=fixed_acidity_bins, \n",
    "                              labels=fixed_acidity_bins[:-1])\n",
    "    fixed_acidity_series.name = 'fa_bin'\n",
    "    df = pd.concat([df, fixed_acidity_series], axis=1)\n",
    "    return df"
   ]
  },
  {
   "cell_type": "code",
   "execution_count": null,
   "metadata": {},
   "outputs": [],
   "source": [
    "df_red_wine = create_bins(df_red_wine)"
   ]
  },
  {
   "cell_type": "code",
   "execution_count": null,
   "metadata": {},
   "outputs": [],
   "source": [
    "df_white_wine = create_bins(df_white_wine)"
   ]
  },
  {
   "cell_type": "code",
   "execution_count": null,
   "metadata": {},
   "outputs": [],
   "source": [
    "df_red_wine.head()"
   ]
  },
  {
   "cell_type": "code",
   "execution_count": null,
   "metadata": {},
   "outputs": [],
   "source": [
    "df_white_wine.head()"
   ]
  },
  {
   "cell_type": "code",
   "execution_count": null,
   "metadata": {},
   "outputs": [],
   "source": [
    "def exclude_max_fa_bin(df):\n",
    "    return df[df['fixed acidity'] < df['fa_bin'].max()]"
   ]
  },
  {
   "cell_type": "code",
   "execution_count": null,
   "metadata": {},
   "outputs": [],
   "source": [
    "exclude_max_fa_bin(df_red_wine).head()"
   ]
  },
  {
   "cell_type": "code",
   "execution_count": null,
   "metadata": {},
   "outputs": [],
   "source": [
    "exclude_max_fa_bin(df_white_wine).head()"
   ]
  },
  {
   "cell_type": "markdown",
   "metadata": {},
   "source": [
    "5. Let's say that I now want to know how much my decision to avoid those wines with higher alcohol content is going to limit the quality of wines that I can drink. To figure this out, I want to know a couple of things:\n",
    "\n",
    "  - The average alcohol content for those reds above the mean alcohol level, by quality.\n",
    "  - The average alcohol content for those whites above the mean alcohol level, by quality.<br>Use a pivot table to solve this."
   ]
  },
  {
   "cell_type": "code",
   "execution_count": null,
   "metadata": {},
   "outputs": [],
   "source": [
    "pd.pivot_table(df_red_wine, values='alcohol', index='quality', columns='higher_alcohol_than_mean')"
   ]
  },
  {
   "cell_type": "code",
   "execution_count": null,
   "metadata": {},
   "outputs": [],
   "source": [
    "pd.pivot_table(df_white_wine, values='alcohol', index='quality', columns='higher_alcohol_than_mean')"
   ]
  },
  {
   "cell_type": "code",
   "execution_count": null,
   "metadata": {},
   "outputs": [],
   "source": [
    "pd.pivot_table(df_red_wine, values='alcohol', index='quality', columns='fa_bin')"
   ]
  },
  {
   "cell_type": "code",
   "execution_count": null,
   "metadata": {},
   "outputs": [],
   "source": [
    "pd.pivot_table(df_white_wine, values='alcohol', index='quality', columns='fa_bin')"
   ]
  }
 ],
 "metadata": {
  "kernelspec": {
   "display_name": "Python [conda env:nf] *",
   "language": "python",
   "name": "conda-env-nf-py"
  },
  "language_info": {
   "codemirror_mode": {
    "name": "ipython",
    "version": 3
   },
   "file_extension": ".py",
   "mimetype": "text/x-python",
   "name": "python",
   "nbconvert_exporter": "python",
   "pygments_lexer": "ipython3",
   "version": "3.6.6"
  }
 },
 "nbformat": 4,
 "nbformat_minor": 2
}
